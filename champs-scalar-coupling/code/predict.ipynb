{
 "cells": [
  {
   "cell_type": "code",
   "execution_count": 1,
   "metadata": {},
   "outputs": [],
   "source": [
    "import pandas as pd\n",
    "\n",
    "train=pd.read_csv(\"../input/train.csv\")\n",
    "test=pd.read_csv(\"../input/test.csv\")\n",
    "sub=pd.read_csv(\"../input/sample_submission.csv\")\n",
    "dipole=pd.read_csv(\"../input/dipole_moments.csv\")\n",
    "magnetic_shield=pd.read_csv(\"../input/magnetic_shielding_tensors.csv\")\n",
    "scalar_coupling=pd.read_csv(\"../input/scalar_coupling_contributions.csv\")\n",
    "mulliken=pd.read_csv(\"../input/mulliken_charges.csv\")\n",
    "potential_energy=pd.read_csv(\"../input/potential_energy.csv\")\n",
    "structure=pd.read_csv(\"../input/structures.csv\")\n"
   ]
  },
  {
   "cell_type": "code",
   "execution_count": 19,
   "metadata": {},
   "outputs": [
    {
     "name": "stdout",
     "output_type": "stream",
     "text": [
      "train row:4658147\n",
      "test row: 2505542\n",
      "mocelcues in train: 85003\n",
      "mocelcues in test: 45772\n",
      "atom in structrue:5\n",
      "type in train:8\n"
     ]
    }
   ],
   "source": [
    "print(f'train row:{train.shape[0]}')\n",
    "print(f\"test row: {test.shape[0]}\")\n",
    "print(f\"mocelcues in train: {len(train['molecule_name'].unique())}\")\n",
    "print(f\"mocelcues in test: {len(test['molecule_name'].unique())}\")\n",
    "print(f\"atom in structrue:{len(structure['atom'].unique())}\")\n",
    "print(f\"type in train:{len(train['type'].unique())}\")"
   ]
  },
  {
   "cell_type": "code",
   "execution_count": 60,
   "metadata": {},
   "outputs": [
    {
     "data": {
      "text/plain": [
       "array([[<matplotlib.axes._subplots.AxesSubplot object at 0x7fe19ba4a1d0>,\n",
       "        <matplotlib.axes._subplots.AxesSubplot object at 0x7fe19b9e8668>],\n",
       "       [<matplotlib.axes._subplots.AxesSubplot object at 0x7fe19ba06cc0>,\n",
       "        <matplotlib.axes._subplots.AxesSubplot object at 0x7fe19b9b4358>]],\n",
       "      dtype=object)"
      ]
     },
     "execution_count": 60,
     "metadata": {},
     "output_type": "execute_result"
    },
    {
     "data": {
      "image/png": "[encoded data removed]",
      "text/plain": [
       "<Figure size 432x288 with 4 Axes>"
      ]
     },
     "metadata": {},
     "output_type": "display_data"
    }
   ],
   "source": [
    "import matplotlib.pyplot as plt\n",
    "import seaborn as sns\n",
    "%matplotlib inline\n",
    "sns.set()\n",
    "train[train['atom_index_0']!=0].hist(bins=30)\n"
   ]
  },
  {
   "cell_type": "code",
   "execution_count": 57,
   "metadata": {},
   "outputs": [
    {
     "data": {
      "text/plain": [
       "(476556, 6)"
      ]
     },
     "execution_count": 57,
     "metadata": {},
     "output_type": "execute_result"
    }
   ],
   "source": [
    "train[train['atom_index_0']==14].shape\n"
   ]
  },
  {
   "cell_type": "code",
   "execution_count": null,
   "metadata": {},
   "outputs": [],
   "source": []
  }
 ],
 "metadata": {
  "kernelspec": {
   "display_name": "Python 3",
   "language": "python",
   "name": "python3"
  },
  "language_info": {
   "codemirror_mode": {
    "name": "ipython",
    "version": 3
   },
   "file_extension": ".py",
   "mimetype": "text/x-python",
   "name": "python",
   "nbconvert_exporter": "python",
   "pygments_lexer": "ipython3",
   "version": "3.6.8"
  }
 },
 "nbformat": 4,
 "nbformat_minor": 2
}
